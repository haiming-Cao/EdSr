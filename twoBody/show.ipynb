{
 "cells": [
  {
   "cell_type": "code",
   "execution_count": 1,
   "metadata": {},
   "outputs": [
    {
     "name": "stdout",
     "output_type": "stream",
     "text": [
      "env: OMP_NUM_THREADS=20\n"
     ]
    }
   ],
   "source": [
    "%set_env OMP_NUM_THREADS=20"
   ]
  },
  {
   "cell_type": "markdown",
   "metadata": {},
   "source": [
    "## $$\\textit{import Package}$$"
   ]
  },
  {
   "cell_type": "code",
   "execution_count": 2,
   "metadata": {},
   "outputs": [],
   "source": [
    "import matplotlib.pyplot as plt\n",
    "import matplotlib.animation as animation\n",
    "import numpy as np\n",
    "%matplotlib Qt5\n",
    "from data import *\n",
    "from twoBodies import TwoBody\n",
    "from einops import rearrange, repeat"
   ]
  },
  {
   "cell_type": "markdown",
   "metadata": {},
   "source": [
    "## $$\\textit{Initialization}$$"
   ]
  },
  {
   "cell_type": "code",
   "execution_count": 3,
   "metadata": {},
   "outputs": [],
   "source": [
    "np.random.seed(2)\n",
    "np.set_printoptions(threshold = np.inf)"
   ]
  },
  {
   "cell_type": "markdown",
   "metadata": {},
   "source": [
    "## $$\\textit{Graph Setting}$$"
   ]
  },
  {
   "cell_type": "code",
   "execution_count": 4,
   "metadata": {},
   "outputs": [
    {
     "name": "stdout",
     "output_type": "stream",
     "text": [
      "<class 'matplotlib.axes._axes.Axes'>\n"
     ]
    }
   ],
   "source": [
    "fig = plt.figure(figsize=[10,4], dpi=256)\n",
    "ax1, ax2 = fig.subplots(1, 2)\n",
    "print(type(ax1))"
   ]
  },
  {
   "cell_type": "code",
   "execution_count": 5,
   "metadata": {},
   "outputs": [
    {
     "name": "stderr",
     "output_type": "stream",
     "text": [
      "100%|██████████| 200/200 [00:49<00:00,  4.08it/s]\n"
     ]
    }
   ],
   "source": [
    "nbodies    = 2\n",
    "tStart     = 0.\n",
    "tStep      = 200\n",
    "interval   = 0.05\n",
    "mass       = 1.0\n",
    "min_radius = 1.0\n",
    "max_radius = 1.0\n",
    "maxIter    = 500\n",
    "orbit_noise = 0.1\n",
    "\n",
    "model = TwoBody(\n",
    "    Nbodies    = nbodies,\n",
    "    tStart     = tStart,\n",
    "    tStep      = tStep,\n",
    "    interval   = interval,\n",
    "    mass       = mass,\n",
    "    min_radius = min_radius,\n",
    "    max_radius = max_radius,\n",
    "    orbit_noise = orbit_noise,\n",
    ")\n",
    "\n",
    "trajs, derror, verror, traderror, traverror = model.current_loop(maxIter)\n",
    "times = model.times.copy()\n",
    "# print(model.times)"
   ]
  },
  {
   "cell_type": "code",
   "execution_count": 6,
   "metadata": {},
   "outputs": [
    {
     "name": "stdout",
     "output_type": "stream",
     "text": [
      "(201,) (201,) (201,) (201,)\n"
     ]
    }
   ],
   "source": [
    "# state = state_generator(\n",
    "#     nbodies = 2, \n",
    "#     mass = 35.0,\n",
    "#     min_radius = 1.0,\n",
    "#     max_radius = 3.0,\n",
    "# )\n",
    "# orbit, settings = get_orbit(state, t_start = 0., t_step = 500, interval = 0.05, rtol = 1e-12)\n",
    "\n",
    "color = np.linspace(0., 1., times.shape[0])\n",
    "\n",
    "color = repeat(color, \"n -> n repeat\", repeat = 3)\n",
    "color[:, 0] = 0.5\n",
    "color[:, 2] = color[:, 2][::-1] *0.5 + 0.25\n",
    "color[:, 1] = color[:, 1] *0.5 + 0.25\n",
    "\n",
    "\n",
    "orbit = trajs\n",
    "invorbit = rearrange(orbit, \"n m d -> d m n\")\n",
    "times = repeat(times, \"n -> repeat n\", repeat = 2)\n",
    "color = repeat(color, \"n m -> repeat n m\", repeat = 2)\n",
    "\n",
    "\n",
    "# p1: np.ndarray = orbit[..., 0, 1:3]\n",
    "# p2: np.ndarray = orbit[..., 1, 1:3]\n",
    "\n",
    "# pax1, pay1 = np.split(p1, 2, axis = -1)\n",
    "# # pax1, pay1 = pax1.squeeze(axis = 1), pay1.squeeze(axis = 1)\n",
    "# pax2, pay2 = np.split(p2, 2, axis = -1)\n",
    "# pax2, pay2 = pax2.squeeze(axis = 1), pay2.squeeze(axis = 1)\n",
    "\n",
    "pam1, pax1, pay1, pavx1, pavy1 = invorbit[:,0]\n",
    "pam2, pax2, pay2, pavx2, pavy2 = invorbit[:,1]\n",
    "\n",
    "m, x, y, vx, vy = invorbit\n",
    "x, y, vx, vy, color, times = map(lambda x: rearrange(x, \"n m ... -> (n m) ...\"), (x, y, vx, vy, color, times))\n",
    "\n",
    "print(pax1.shape, pax2.shape, pay1.shape, pay2.shape)\n",
    "x1, y1, x2, y2 = [], [], [], []\n",
    "\n",
    "x_min = min(pax1.min(), pax2.min())\n",
    "x_max = max(pax1.max(), pax2.max())\n",
    "y_min = min(pay1.min(), pay2.min())\n",
    "y_max = max(pay1.max(), pay2.max())\n",
    "\n",
    "# ax1.plot(pax1, pay1, 'g-', pax2, pay2, 'r-', markersize = 3)\n",
    "t = ax1.scatter(x, y, s = times*2, c = color)\n",
    "# cb = fig.colorbar(t, ax = ax1, orientation = 'horizontal')\n",
    "# cb.set_ticks([0., 1.0])  # 设置刻度位置\n",
    "# cb.set_ticklabels([model.times[0], model.times[-1]])\n",
    "# cb.set_label('$\\Delta t$', loc = \"center\")\n",
    "\n",
    "sub1_line1, = ax1.plot(x1, y1, 'o', animated = True, markersize = 7)\n",
    "sub1_line2, = ax1.plot(x2, y2, 'o', animated = True, markersize = 7)"
   ]
  },
  {
   "cell_type": "code",
   "execution_count": 7,
   "metadata": {},
   "outputs": [
    {
     "name": "stdout",
     "output_type": "stream",
     "text": [
      "(201,) (201,) (201,) (201,)\n",
      "min energy: -0.7898521853603532\n",
      "max energy: 0.5458065555475266\n",
      "<class 'matplotlib.lines.Line2D'> <class 'matplotlib.lines.Line2D'> <class 'matplotlib.lines.Line2D'>\n",
      "(201,) (201,) (201,) (201,) (201,) (201,) (201,) (201,)\n"
     ]
    }
   ],
   "source": [
    "potential = potential_energy(orbit)\n",
    "kinetic = kinetic_energy(orbit)\n",
    "total = total_energy(orbit)\n",
    "# print(total)\n",
    "# np.savetxt('total_energy', total)\n",
    "times = model.times\n",
    "print(potential.shape, kinetic.shape, total.shape, times.shape)\n",
    "pe, ke, tote, t = [], [], [], []\n",
    "\n",
    "# pe_line, ke_line, tote_line = ax2.plot(pe, t, ke, t, tote, t, 'o', animated = True)\n",
    "ax2.plot(times, potential, 'o', markersize = 3)\n",
    "ax2.plot(times, kinetic, 'o', markersize = 3)\n",
    "ax2.plot(times, total, 'o', markersize = 3)\n",
    "pe_line, = ax2.plot(t, pe, 'o', animated = True, markersize = 7)\n",
    "ke_line, = ax2.plot(t, ke, 'o', animated = True, markersize = 7)\n",
    "tote_line, = ax2.plot(t, tote, 'o', animated = True, markersize = 7)\n",
    "tmin, tmax = times.min(), times.max()\n",
    "\n",
    "e_min = min(potential.min(), kinetic.min(), total.min(), 0)\n",
    "e_max = max(potential.max(), kinetic.max(), total.max())\n",
    "\n",
    "print(f'min energy: {e_min}\\nmax energy: {e_max}')\n",
    "print(type(pe_line), type(ke_line), type(tote_line))\n",
    "\n",
    "print(pax1.shape, pay1.shape, pax2.shape, pay2.shape, potential.shape, kinetic.shape, total.shape, times.shape)"
   ]
  },
  {
   "cell_type": "code",
   "execution_count": 8,
   "metadata": {},
   "outputs": [],
   "source": [
    "frames = np.stack([pax1, pay1, pax2, pay2, potential, kinetic, total, times], axis = 1)\n",
    "timesteps = 1\n",
    "frames = frames[::timesteps]\n",
    "def init():\n",
    "    qscale = 0.5\n",
    "    escale = 0.5\n",
    "\n",
    "    # coord initialization\n",
    "    ax1.set_xlabel('$q_{x}$', rotation = 0) ; ax1.set_ylabel('$q_{y}$')\n",
    "    ax1.set_axis_on()\n",
    "    ax1.set_xlim(x_min - qscale * abs(x_min), x_max + qscale * abs(x_max))\n",
    "    ax1.set_ylim(y_min - qscale * abs(y_min), y_max + qscale * abs(y_max))\n",
    "    ax1.set_title('Trajectories')\n",
    "\n",
    "    # energy initialization\n",
    "    ax2.set_axis_on()\n",
    "    ax2.set_title(\"Energy\")\n",
    "    ax2.set_xlabel('time')\n",
    "    ax2.set_xlim(tmin - 1.0, tmax + 1.0)\n",
    "    ax2.set_ylim(e_min - escale * abs(e_min), e_max + escale * abs(e_max))\n",
    "\n",
    "    ax1.legend([sub1_line1, sub1_line2], ['body 1 path','body 2 path'],fontsize = 8)\n",
    "    ax2.legend([pe_line, ke_line, tote_line], ['potential', 'kinetic', 'total'], fontsize = 8)\n",
    "\n",
    "    return sub1_line1, sub1_line2, pe_line, ke_line, tote_line\n",
    "\n",
    "\n",
    "def update(frame, sub1_line1, sub1_line2, pe_line, ke_line, tote_line):\n",
    "\n",
    "    \n",
    "\n",
    "    px1, py1, px2, py2, p, k, tt, t_interval = frame\n",
    "    # print(px1, py1, px2, py2, p, k, tt, t_interval)\n",
    "    \n",
    "    # update coord\n",
    "    # x1.append(px1);y1.append(py1)\n",
    "    # x2.append(px2);y2.append(py2)\n",
    "    # if len(x1) > 580:\n",
    "    #     x1.pop(0);y1.pop(0);x2.pop(0);y2.pop(0)\n",
    "    # sub1_line1.set_data(x1, y1)\n",
    "    # sub1_line2.set_data(x2, y2)\n",
    "\n",
    "    sub1_line1.set_data(px1, py1)\n",
    "    sub1_line2.set_data(px2, py2)\n",
    "\n",
    "    # # update energy\n",
    "    # pe.append(p);ke.append(k)\n",
    "    # tote.append(tt);t.append(t_interval)\n",
    "    # if len(pe) > 580:\n",
    "    #     pe.pop(0);ke.pop(0);tote.pop(0);t.pop(0)\n",
    "    # pe_line.set_data(t, pe)\n",
    "    # ke_line.set_data(t, ke)\n",
    "    # tote_line.set_data(t, tote)\n",
    "\n",
    "    pe_line.set_data(t_interval, p)\n",
    "    ke_line.set_data(t_interval, k)\n",
    "    tote_line.set_data(t_interval, tt)\n",
    "\n",
    "    ax1.legend([sub1_line1, sub1_line2], ['body 1 path','body 2 path'], fontsize = 8)\n",
    "    ax2.legend([pe_line, ke_line, tote_line], ['potential', 'kinetic', 'total'], fontsize = 8)\n",
    "    return sub1_line1, sub1_line2, pe_line, ke_line, tote_line"
   ]
  },
  {
   "cell_type": "markdown",
   "metadata": {},
   "source": [
    "## $$\\textit{Graph Generation}$$"
   ]
  },
  {
   "cell_type": "code",
   "execution_count": 9,
   "metadata": {},
   "outputs": [],
   "source": [
    "ani = animation.FuncAnimation(fig = fig, func = update, frames = frames, fargs = [sub1_line1, sub1_line2, pe_line, ke_line, tote_line], init_func = init, interval = 1, blit = True)\n",
    "plt.tight_layout()\n",
    "plt.show()"
   ]
  },
  {
   "cell_type": "code",
   "execution_count": 10,
   "metadata": {},
   "outputs": [
    {
     "name": "stderr",
     "output_type": "stream",
     "text": [
      "C:\\Users\\caohm\\AppData\\Local\\Temp\\ipykernel_22448\\2826314124.py:43: MatplotlibDeprecationWarning: Setting data with a non sequence type is deprecated since 3.7 and will be remove two minor releases later\n",
      "  sub1_line1.set_data(px1, py1)\n",
      "C:\\Users\\caohm\\AppData\\Local\\Temp\\ipykernel_22448\\2826314124.py:44: MatplotlibDeprecationWarning: Setting data with a non sequence type is deprecated since 3.7 and will be remove two minor releases later\n",
      "  sub1_line2.set_data(px2, py2)\n",
      "C:\\Users\\caohm\\AppData\\Local\\Temp\\ipykernel_22448\\2826314124.py:55: MatplotlibDeprecationWarning: Setting data with a non sequence type is deprecated since 3.7 and will be remove two minor releases later\n",
      "  pe_line.set_data(t_interval, p)\n",
      "C:\\Users\\caohm\\AppData\\Local\\Temp\\ipykernel_22448\\2826314124.py:56: MatplotlibDeprecationWarning: Setting data with a non sequence type is deprecated since 3.7 and will be remove two minor releases later\n",
      "  ke_line.set_data(t_interval, k)\n",
      "C:\\Users\\caohm\\AppData\\Local\\Temp\\ipykernel_22448\\2826314124.py:57: MatplotlibDeprecationWarning: Setting data with a non sequence type is deprecated since 3.7 and will be remove two minor releases later\n",
      "  tote_line.set_data(t_interval, tt)\n"
     ]
    }
   ],
   "source": [
    "ani.save(f'twobody_{interval}.gif', writer = 'imagemagick', dpi = 100, progress_callback = lambda i, n: print(f'Saving frame {i}/{n}', end = '\\r'))\n",
    "# print(trajs)"
   ]
  }
 ],
 "metadata": {
  "kernelspec": {
   "display_name": "py3.11_torch2.0",
   "language": "python",
   "name": "python3"
  },
  "language_info": {
   "codemirror_mode": {
    "name": "ipython",
    "version": 3
   },
   "file_extension": ".py",
   "mimetype": "text/x-python",
   "name": "python",
   "nbconvert_exporter": "python",
   "pygments_lexer": "ipython3",
   "version": "3.11.5"
  }
 },
 "nbformat": 4,
 "nbformat_minor": 2
}
