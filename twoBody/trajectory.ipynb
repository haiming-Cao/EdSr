{
 "cells": [
  {
   "cell_type": "markdown",
   "metadata": {},
   "source": [
    "## $$\\textit{import Package}$$"
   ]
  },
  {
   "cell_type": "code",
   "execution_count": null,
   "metadata": {},
   "outputs": [],
   "source": [
    "import matplotlib.pyplot as plt\n",
    "import matplotlib.animation as animation\n",
    "import numpy as np\n",
    "%matplotlib Qt5\n",
    "from data import *\n",
    "\n",
    "a = np.linspace(0.5 / 5, 0.5, 4)\n",
    "print(a)"
   ]
  },
  {
   "cell_type": "markdown",
   "metadata": {},
   "source": [
    "## $$\\textit{Initialization}$$"
   ]
  },
  {
   "cell_type": "code",
   "execution_count": null,
   "metadata": {},
   "outputs": [],
   "source": [
    "np.random.seed(2)\n",
    "np.set_printoptions(threshold = np.inf, linewidth = np.inf)"
   ]
  },
  {
   "cell_type": "markdown",
   "metadata": {},
   "source": [
    "## $$\\textit{Graph Setting}$$"
   ]
  },
  {
   "cell_type": "code",
   "execution_count": null,
   "metadata": {},
   "outputs": [],
   "source": [
    "fig = plt.figure(figsize=[10,4], dpi=200)\n",
    "ax1, ax2 = fig.subplots(1, 2)\n",
    "print(type(ax1))"
   ]
  },
  {
   "cell_type": "code",
   "execution_count": null,
   "metadata": {},
   "outputs": [],
   "source": [
    "state = state_generator(\n",
    "    nbodies = 2, \n",
    "    mass = 1.0,\n",
    "    min_radius = 1.0,\n",
    "    max_radius = 2.0,\n",
    "    orbit_noise = 0.05\n",
    ")\n",
    "orbit, settings = get_orbit(state, t_start = 0., t_step = 1000, interval = 0.05, rtol = 1e-12)\n",
    "\n",
    "p1: np.ndarray = orbit[..., 0, 1:3]\n",
    "p2: np.ndarray = orbit[..., 1, 1:3]\n",
    "\n",
    "pax1, pay1 = np.split(p1, 2, axis = -1)\n",
    "pax1, pay1 = pax1.squeeze(axis = 1), pay1.squeeze(axis = 1)\n",
    "pax2, pay2 = np.split(p2, 2, axis = -1)\n",
    "pax2, pay2 = pax2.squeeze(axis = 1), pay2.squeeze(axis = 1)\n",
    "\n",
    "print(pax1.shape, pax2.shape, pay1.shape, pay2.shape)\n",
    "x1, y1, x2, y2 = [], [], [], []\n",
    "\n",
    "x_min = min(pax1.min(), pax2.min())\n",
    "x_max = max(pax1.max(), pax2.max())\n",
    "y_min = min(pay1.min(), pay2.min())\n",
    "y_max = max(pay1.max(), pay2.max())\n",
    "\n",
    "ax1.plot(pax1, pay1, 'o', markersize = 3)\n",
    "ax1.plot(pax2, pay2, 'o', markersize = 3)\n",
    "\n",
    "sub1_line1, = ax1.plot(x1, y1, 'o', animated = True, markersize = 7)\n",
    "sub1_line2, = ax1.plot(x2, y2, 'o', animated = True, markersize = 7)\n",
    "print(type(sub1_line1), type(sub1_line2))\n",
    "print(orbit.shape)"
   ]
  },
  {
   "cell_type": "code",
   "execution_count": null,
   "metadata": {},
   "outputs": [],
   "source": [
    "potential = potential_energy(orbit)\n",
    "kinetic = kinetic_energy(orbit)\n",
    "total = total_energy(orbit)\n",
    "# print(total)\n",
    "# np.savetxt('total_energy', total)\n",
    "times = settings['t_eval']\n",
    "print(potential.shape, kinetic.shape, total.shape, times.shape)\n",
    "pe, ke, tote, t = [], [], [], []\n",
    "\n",
    "# pe_line, ke_line, tote_line = ax2.plot(pe, t, ke, t, tote, t, 'o', animated = True)\n",
    "ax2.plot(times, potential, 'o', markersize = 3)\n",
    "ax2.plot(times, kinetic, 'o', markersize = 3)\n",
    "ax2.plot(times, total, 'o', markersize = 3)\n",
    "pe_line, = ax2.plot(t, pe, 'o', animated = True, markersize = 7)\n",
    "ke_line, = ax2.plot(t, ke, 'o', animated = True, markersize = 7)\n",
    "tote_line, = ax2.plot(t, tote, 'o', animated = True, markersize = 7)\n",
    "tmin, tmax = times.min(), times.max()\n",
    "\n",
    "e_min = min(potential.min(), kinetic.min(), total.min(), 0)\n",
    "e_max = max(potential.max(), kinetic.max(), total.max())\n",
    "\n",
    "print(f'min energy: {e_min}\\nmax energy: {e_max}')\n",
    "print(type(pe_line), type(ke_line), type(tote_line))\n",
    "\n",
    "print(pax1.shape, pay1.shape, pax2.shape, pay2.shape, potential.shape, kinetic.shape, total.shape, times.shape)"
   ]
  },
  {
   "cell_type": "code",
   "execution_count": null,
   "metadata": {},
   "outputs": [],
   "source": [
    "frames = np.stack([pax1, pay1, pax2, pay2, potential, kinetic, total, times], axis = 1)\n",
    "timesteps = 1\n",
    "frames = frames[::timesteps]\n",
    "def init():\n",
    "    qscale = 0.5\n",
    "    escale = 0.5\n",
    "\n",
    "    # coord initialization\n",
    "    ax1.set_xlabel('$q_{x}$') ; ax1.set_ylabel('$q_{y}$')\n",
    "    ax1.set_axis_on()\n",
    "    ax1.set_xlim(x_min - qscale * abs(x_min), x_max + qscale * abs(x_max))\n",
    "    ax1.set_ylim(y_min - qscale * abs(y_min), y_max + qscale * abs(y_max))\n",
    "    ax1.set_title('Trajectories')\n",
    "\n",
    "    # energy initialization\n",
    "    ax2.set_axis_on()\n",
    "    ax2.set_title(\"Energy\")\n",
    "    ax2.set_xlabel('time')\n",
    "    ax2.set_xlim(tmin - 1.0, tmax + 1.0)\n",
    "    ax2.set_ylim(e_min - escale * abs(e_min), e_max + escale * abs(e_max))\n",
    "\n",
    "    ax1.legend([sub1_line1, sub1_line2], ['body 1 path','body 2 path'],fontsize = 8)\n",
    "    ax2.legend([pe_line, ke_line, tote_line], ['potential', 'kinetic', 'total'], fontsize = 8)\n",
    "\n",
    "    return sub1_line1, sub1_line2, pe_line, ke_line, tote_line\n",
    "\n",
    "\n",
    "def update(frame, sub1_line1, sub1_line2, pe_line, ke_line, tote_line):\n",
    "\n",
    "    px1, py1, px2, py2, p, k, tt, t_interval = frame\n",
    "    # print(px1, py1, px2, py2, p, k, tt, t_interval)\n",
    "    \n",
    "    # update coord\n",
    "    # x1.append(px1);y1.append(py1)\n",
    "    # x2.append(px2);y2.append(py2)\n",
    "    # if len(x1) > 580:\n",
    "    #     x1.pop(0);y1.pop(0);x2.pop(0);y2.pop(0)\n",
    "    # sub1_line1.set_data(x1, y1)\n",
    "    # sub1_line2.set_data(x2, y2)\n",
    "\n",
    "    sub1_line1.set_data(px1, py1)\n",
    "    sub1_line2.set_data(px2, py2)\n",
    "\n",
    "    # # update energy\n",
    "    # pe.append(p);ke.append(k)\n",
    "    # tote.append(tt);t.append(t_interval)\n",
    "    # if len(pe) > 580:\n",
    "    #     pe.pop(0);ke.pop(0);tote.pop(0);t.pop(0)\n",
    "    # pe_line.set_data(t, pe)\n",
    "    # ke_line.set_data(t, ke)\n",
    "    # tote_line.set_data(t, tote)\n",
    "\n",
    "    pe_line.set_data(t_interval, p)\n",
    "    ke_line.set_data(t_interval, k)\n",
    "    tote_line.set_data(t_interval, tt)\n",
    "\n",
    "    ax1.legend([sub1_line1, sub1_line2], ['body 1 path','body 2 path'], fontsize = 8)\n",
    "    ax2.legend([pe_line, ke_line, tote_line], ['potential', 'kinetic', 'total'], fontsize = 8)\n",
    "    return sub1_line1, sub1_line2, pe_line, ke_line, tote_line"
   ]
  },
  {
   "cell_type": "markdown",
   "metadata": {},
   "source": [
    "## $$\\textit{Graph Generation}$$"
   ]
  },
  {
   "cell_type": "code",
   "execution_count": null,
   "metadata": {},
   "outputs": [],
   "source": [
    "ani = animation.FuncAnimation(fig = fig, func = update, frames = frames, fargs = [sub1_line1, sub1_line2, pe_line, ke_line, tote_line], init_func = init, interval = 1, blit = True)\n",
    "plt.show()"
   ]
  },
  {
   "cell_type": "code",
   "execution_count": null,
   "metadata": {},
   "outputs": [],
   "source": [
    "ani.save('twobody.gif', writer = 'imagemagick', dpi = 100, progress_callback = lambda i, n: print(f'Saving frame {i}/{n}', end = '\\r'))\n",
    "# print(orbit)"
   ]
  }
 ],
 "metadata": {
  "kernelspec": {
   "display_name": "py3.11_torch2.0",
   "language": "python",
   "name": "python3"
  },
  "language_info": {
   "codemirror_mode": {
    "name": "ipython",
    "version": 3
   },
   "file_extension": ".py",
   "mimetype": "text/x-python",
   "name": "python",
   "nbconvert_exporter": "python",
   "pygments_lexer": "ipython3",
   "version": "3.11.5"
  }
 },
 "nbformat": 4,
 "nbformat_minor": 2
}
